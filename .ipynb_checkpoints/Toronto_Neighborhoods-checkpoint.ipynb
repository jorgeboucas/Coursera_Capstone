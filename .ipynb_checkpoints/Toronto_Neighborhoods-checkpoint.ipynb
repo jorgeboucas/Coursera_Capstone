{
 "cells": [
  {
   "cell_type": "markdown",
   "metadata": {},
   "source": [
    "### Import libraries"
   ]
  },
  {
   "cell_type": "code",
   "execution_count": 1,
   "metadata": {},
   "outputs": [],
   "source": [
    "import pandas as pd\n",
    "import numpy as np\n",
    "import sys\n",
    "import requests"
   ]
  },
  {
   "cell_type": "markdown",
   "metadata": {},
   "source": [
    "### Read data"
   ]
  },
  {
   "cell_type": "code",
   "execution_count": 2,
   "metadata": {},
   "outputs": [],
   "source": [
    "response = requests.get(\"https://en.wikipedia.org/wiki/List_of_postal_codes_of_Canada:_M\")"
   ]
  },
  {
   "cell_type": "markdown",
   "metadata": {},
   "source": [
    "### Parse page\n",
    "\n",
    "The html tag td can be used to identify rows in the table."
   ]
  },
  {
   "cell_type": "code",
   "execution_count": 3,
   "metadata": {},
   "outputs": [],
   "source": [
    "# separate lines\n",
    "response=response.text.split(\"\\n\")\n",
    "\n",
    "# table entries have the td tag\n",
    "response=[ s for s in response if \"td\" in s ]\n",
    "\n",
    "# join them all an separate by the end row tag /tr\n",
    "response=\"\".join(response)\n",
    "response=response.split(\"</tr>\")\n",
    "\n",
    "# remove first and last 4 characteres of each row\n",
    "response=[ s[4:-5].split(\"</td><td>\") for s in response ]\n",
    "\n",
    "# make a dataframe from the list of rows\n",
    "df=pd.DataFrame(response,columns=[\"Postcode\",\"Borough\",\"Neighbourhood\"])"
   ]
  },
  {
   "cell_type": "markdown",
   "metadata": {},
   "source": [
    "### Clean dataframe\n",
    "\n",
    "Here we clean the dataframe as instructed in the assignment."
   ]
  },
  {
   "cell_type": "code",
   "execution_count": 4,
   "metadata": {},
   "outputs": [
    {
     "name": "stdout",
     "output_type": "stream",
     "text": [
      "(103, 3)\n"
     ]
    }
   ],
   "source": [
    "# remove all row that are Borough not assigned or None - this last a result of parsing wrong lines with the td tag\n",
    "df=df[~df[\"Borough\"].astype(str).isin([\"Not assigned\",\"None\"])]\n",
    "\n",
    "# reset index\n",
    "df.reset_index(inplace=True, drop=True)\n",
    "\n",
    "# remove html tags\n",
    "def remove_hrefs(x):\n",
    "    \"\"\"\n",
    "    This function removes the hyperlinks from an html a tag in pure text\n",
    "    \"\"\"\n",
    "    if \"href=\" in str(x):\n",
    "        x=x.split(\">\")[1].split(\"<\")[0]\n",
    "    return x\n",
    "\n",
    "df[\"Borough\"]=df[\"Borough\"].apply(lambda x: remove_hrefs(x))\n",
    "df[\"Neighbourhood\"]=df[\"Neighbourhood\"].apply(lambda x: remove_hrefs(x))\n",
    "\n",
    "# Not assigned neighborhood get the value of \"Borough\"\n",
    "df.loc[df[\"Neighbourhood\"]==\"Not assigned\",\"Neighbourhood\"]=df.loc[df[\"Neighbourhood\"]==\"Not assigned\",\"Borough\"]\n",
    "\n",
    "# Aggregate rows from duplicate postcode entries \n",
    "df = df.groupby('Postcode',as_index=False).agg(lambda x:', '.join(list(set(x))))\n",
    "\n",
    "print(df.shape)"
   ]
  },
  {
   "cell_type": "code",
   "execution_count": null,
   "metadata": {},
   "outputs": [],
   "source": []
  }
 ],
 "metadata": {
  "jupytext": {
   "cell_markers": "{{{,}}}",
   "text_representation": {
    "extension": ".py",
    "format_name": "light",
    "format_version": "1.4",
    "jupytext_version": "1.2.3"
   }
  },
  "kernelspec": {
   "display_name": "Python 3",
   "language": "python",
   "name": "python3"
  },
  "language_info": {
   "codemirror_mode": {
    "name": "ipython",
    "version": 3
   },
   "file_extension": ".py",
   "mimetype": "text/x-python",
   "name": "python",
   "nbconvert_exporter": "python",
   "pygments_lexer": "ipython3",
   "version": "3.7.3"
  }
 },
 "nbformat": 4,
 "nbformat_minor": 4
}
