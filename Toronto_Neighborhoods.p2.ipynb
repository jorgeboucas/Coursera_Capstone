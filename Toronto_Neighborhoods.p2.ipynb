{
 "cells": [
  {
   "cell_type": "markdown",
   "metadata": {},
   "source": [
    "### Import libraries"
   ]
  },
  {
   "cell_type": "code",
   "execution_count": 1,
   "metadata": {},
   "outputs": [],
   "source": [
    "import pandas as pd\n",
    "import numpy as np\n",
    "import sys\n",
    "import requests"
   ]
  },
  {
   "cell_type": "markdown",
   "metadata": {},
   "source": [
    "### Read data"
   ]
  },
  {
   "cell_type": "code",
   "execution_count": 2,
   "metadata": {},
   "outputs": [],
   "source": [
    "response = requests.get(\"https://en.wikipedia.org/wiki/List_of_postal_codes_of_Canada:_M\")"
   ]
  },
  {
   "cell_type": "markdown",
   "metadata": {},
   "source": [
    "### Parse page\n",
    "\n",
    "The html tag td can be used to identify rows in the table."
   ]
  },
  {
   "cell_type": "code",
   "execution_count": 3,
   "metadata": {},
   "outputs": [],
   "source": [
    "# separate lines\n",
    "response=response.text.split(\"\\n\")\n",
    "\n",
    "# table entries have the td tag\n",
    "response=[ s for s in response if \"td\" in s ]\n",
    "\n",
    "# join them all an separate by the end row tag /tr\n",
    "response=\"\".join(response)\n",
    "response=response.split(\"</tr>\")\n",
    "\n",
    "# remove first and last 4 characteres of each row\n",
    "response=[ s[4:-5].split(\"</td><td>\") for s in response ]\n",
    "\n",
    "# make a dataframe from the list of rows\n",
    "df=pd.DataFrame(response,columns=[\"Postcode\",\"Borough\",\"Neighbourhood\"])"
   ]
  },
  {
   "cell_type": "markdown",
   "metadata": {},
   "source": [
    "### Clean dataframe\n",
    "\n",
    "Here we clean the dataframe as instructed in the assignment."
   ]
  },
  {
   "cell_type": "code",
   "execution_count": 4,
   "metadata": {},
   "outputs": [
    {
     "name": "stdout",
     "output_type": "stream",
     "text": [
      "(103, 3)\n"
     ]
    }
   ],
   "source": [
    "# remove all row that are Borough not assigned or None - this last a result of parsing wrong lines with the td tag\n",
    "df=df[~df[\"Borough\"].astype(str).isin([\"Not assigned\",\"None\"])]\n",
    "\n",
    "# reset index\n",
    "df.reset_index(inplace=True, drop=True)\n",
    "\n",
    "# remove html tags\n",
    "def remove_hrefs(x):\n",
    "    \"\"\"\n",
    "    This function removes the hyperlinks from an html a tag in pure text\n",
    "    \"\"\"\n",
    "    if \"href=\" in str(x):\n",
    "        x=x.split(\">\")[1].split(\"<\")[0]\n",
    "    return x\n",
    "\n",
    "df[\"Borough\"]=df[\"Borough\"].apply(lambda x: remove_hrefs(x))\n",
    "df[\"Neighbourhood\"]=df[\"Neighbourhood\"].apply(lambda x: remove_hrefs(x))\n",
    "\n",
    "# Not assigned neighborhood get the value of \"Borough\"\n",
    "df.loc[df[\"Neighbourhood\"]==\"Not assigned\",\"Neighbourhood\"]=df.loc[df[\"Neighbourhood\"]==\"Not assigned\",\"Borough\"]\n",
    "\n",
    "# Aggregate rows from duplicate postcode entries \n",
    "df = df.groupby(['Postcode'],as_index=False).agg(lambda x:', '.join(list(set(x))))\n",
    "\n",
    "print(df.shape)"
   ]
  },
  {
   "cell_type": "markdown",
   "metadata": {},
   "source": [
    "### Get coordinates for postal codes"
   ]
  },
  {
   "cell_type": "markdown",
   "metadata": {},
   "source": [
    "First try using geocoder."
   ]
  },
  {
   "cell_type": "code",
   "execution_count": 5,
   "metadata": {},
   "outputs": [],
   "source": [
    "import geocoder"
   ]
  },
  {
   "cell_type": "code",
   "execution_count": 6,
   "metadata": {},
   "outputs": [],
   "source": [
    "# def getCoor(postal_code):\n",
    "#     # initialize your variable to None\n",
    "#     lat_lng_coords = None\n",
    "#     trial=0\n",
    "#     # loop until you get the coordinates\n",
    "#     while(lat_lng_coords is None) or (trial < 5) :\n",
    "#         g = geocoder.google('{}, Toronto, Ontario'.format(postal_code))\n",
    "#         lat_lng_coords = g.latlng\n",
    "#         trial=trial+1\n",
    "#     if lat_lng_coords is None:\n",
    "#         print(\"For\", postal_code, \"it was not possible to retrieve coordinates.\")\n",
    "#         latitude = np.nan\n",
    "#         longitude = np.nan \n",
    "#     else:\n",
    "#         latitude = lat_lng_coords[0]\n",
    "#         longitude = lat_lng_coords[1]\n",
    "#     return str(latitude)+'::'+str(longitude)\n",
    "\n",
    "# df[\"coordidantes\"]=df[\"Postcode\"].apply(lambda x: getCoor(x)) getCoor(M1B)"
   ]
  },
  {
   "cell_type": "markdown",
   "metadata": {},
   "source": [
    "As the block above did not work we try just the simples parts."
   ]
  },
  {
   "cell_type": "code",
   "execution_count": 7,
   "metadata": {},
   "outputs": [],
   "source": [
    "# print(\"geocoder:\", geocoder.google('{}, Toronto, Ontario'.format(\"M1B\")) )\n",
    "# print(\"Function:\", getCoor(\"M1B\") )"
   ]
  },
  {
   "cell_type": "markdown",
   "metadata": {},
   "source": [
    "Retrieving data from geocoder did not work. We are therefore using the suplied table."
   ]
  },
  {
   "cell_type": "code",
   "execution_count": 8,
   "metadata": {},
   "outputs": [],
   "source": [
    "pcdf=pd.read_csv(\"https://cocl.us/Geospatial_data\")\n",
    "pcdf.columns=[\"Postcode\",\"Latitude\",\"Longitude\"]"
   ]
  },
  {
   "cell_type": "code",
   "execution_count": 9,
   "metadata": {},
   "outputs": [
    {
     "data": {
      "text/html": [
       "<div>\n",
       "<style scoped>\n",
       "    .dataframe tbody tr th:only-of-type {\n",
       "        vertical-align: middle;\n",
       "    }\n",
       "\n",
       "    .dataframe tbody tr th {\n",
       "        vertical-align: top;\n",
       "    }\n",
       "\n",
       "    .dataframe thead th {\n",
       "        text-align: right;\n",
       "    }\n",
       "</style>\n",
       "<table border=\"1\" class=\"dataframe\">\n",
       "  <thead>\n",
       "    <tr style=\"text-align: right;\">\n",
       "      <th></th>\n",
       "      <th>Postcode</th>\n",
       "      <th>Borough</th>\n",
       "      <th>Neighbourhood</th>\n",
       "      <th>Latitude</th>\n",
       "      <th>Longitude</th>\n",
       "    </tr>\n",
       "  </thead>\n",
       "  <tbody>\n",
       "    <tr>\n",
       "      <td>0</td>\n",
       "      <td>M1B</td>\n",
       "      <td>Scarborough</td>\n",
       "      <td>Rouge, Malvern</td>\n",
       "      <td>43.806686</td>\n",
       "      <td>-79.194353</td>\n",
       "    </tr>\n",
       "    <tr>\n",
       "      <td>1</td>\n",
       "      <td>M1C</td>\n",
       "      <td>Scarborough</td>\n",
       "      <td>Highland Creek, Rouge Hill, Port Union</td>\n",
       "      <td>43.784535</td>\n",
       "      <td>-79.160497</td>\n",
       "    </tr>\n",
       "    <tr>\n",
       "      <td>2</td>\n",
       "      <td>M1E</td>\n",
       "      <td>Scarborough</td>\n",
       "      <td>West Hill, Morningside, Guildwood</td>\n",
       "      <td>43.763573</td>\n",
       "      <td>-79.188711</td>\n",
       "    </tr>\n",
       "    <tr>\n",
       "      <td>3</td>\n",
       "      <td>M1G</td>\n",
       "      <td>Scarborough</td>\n",
       "      <td>Woburn</td>\n",
       "      <td>43.770992</td>\n",
       "      <td>-79.216917</td>\n",
       "    </tr>\n",
       "    <tr>\n",
       "      <td>4</td>\n",
       "      <td>M1H</td>\n",
       "      <td>Scarborough</td>\n",
       "      <td>Cedarbrae</td>\n",
       "      <td>43.773136</td>\n",
       "      <td>-79.239476</td>\n",
       "    </tr>\n",
       "    <tr>\n",
       "      <td>...</td>\n",
       "      <td>...</td>\n",
       "      <td>...</td>\n",
       "      <td>...</td>\n",
       "      <td>...</td>\n",
       "      <td>...</td>\n",
       "    </tr>\n",
       "    <tr>\n",
       "      <td>98</td>\n",
       "      <td>M9N</td>\n",
       "      <td>York</td>\n",
       "      <td>Weston</td>\n",
       "      <td>43.706876</td>\n",
       "      <td>-79.518188</td>\n",
       "    </tr>\n",
       "    <tr>\n",
       "      <td>99</td>\n",
       "      <td>M9P</td>\n",
       "      <td>Etobicoke</td>\n",
       "      <td>Westmount</td>\n",
       "      <td>43.696319</td>\n",
       "      <td>-79.532242</td>\n",
       "    </tr>\n",
       "    <tr>\n",
       "      <td>100</td>\n",
       "      <td>M9R</td>\n",
       "      <td>Etobicoke</td>\n",
       "      <td>Richview Gardens, St. Phillips, Martin Grove G...</td>\n",
       "      <td>43.688905</td>\n",
       "      <td>-79.554724</td>\n",
       "    </tr>\n",
       "    <tr>\n",
       "      <td>101</td>\n",
       "      <td>M9V</td>\n",
       "      <td>Etobicoke</td>\n",
       "      <td>Albion Gardens, Beaumond Heights, Humbergate, ...</td>\n",
       "      <td>43.739416</td>\n",
       "      <td>-79.588437</td>\n",
       "    </tr>\n",
       "    <tr>\n",
       "      <td>102</td>\n",
       "      <td>M9W</td>\n",
       "      <td>Etobicoke</td>\n",
       "      <td>Northwest</td>\n",
       "      <td>43.706748</td>\n",
       "      <td>-79.594054</td>\n",
       "    </tr>\n",
       "  </tbody>\n",
       "</table>\n",
       "<p>103 rows × 5 columns</p>\n",
       "</div>"
      ],
      "text/plain": [
       "    Postcode      Borough                                      Neighbourhood  \\\n",
       "0        M1B  Scarborough                                     Rouge, Malvern   \n",
       "1        M1C  Scarborough             Highland Creek, Rouge Hill, Port Union   \n",
       "2        M1E  Scarborough                  West Hill, Morningside, Guildwood   \n",
       "3        M1G  Scarborough                                             Woburn   \n",
       "4        M1H  Scarborough                                          Cedarbrae   \n",
       "..       ...          ...                                                ...   \n",
       "98       M9N         York                                             Weston   \n",
       "99       M9P    Etobicoke                                          Westmount   \n",
       "100      M9R    Etobicoke  Richview Gardens, St. Phillips, Martin Grove G...   \n",
       "101      M9V    Etobicoke  Albion Gardens, Beaumond Heights, Humbergate, ...   \n",
       "102      M9W    Etobicoke                                          Northwest   \n",
       "\n",
       "      Latitude  Longitude  \n",
       "0    43.806686 -79.194353  \n",
       "1    43.784535 -79.160497  \n",
       "2    43.763573 -79.188711  \n",
       "3    43.770992 -79.216917  \n",
       "4    43.773136 -79.239476  \n",
       "..         ...        ...  \n",
       "98   43.706876 -79.518188  \n",
       "99   43.696319 -79.532242  \n",
       "100  43.688905 -79.554724  \n",
       "101  43.739416 -79.588437  \n",
       "102  43.706748 -79.594054  \n",
       "\n",
       "[103 rows x 5 columns]"
      ]
     },
     "execution_count": 9,
     "metadata": {},
     "output_type": "execute_result"
    }
   ],
   "source": [
    "df=pd.merge(df,pcdf,how=\"left\",on=[\"Postcode\"])\n",
    "df"
   ]
  },
  {
   "cell_type": "code",
   "execution_count": null,
   "metadata": {},
   "outputs": [],
   "source": []
  }
 ],
 "metadata": {
  "jupytext": {
   "cell_markers": "{{{,}}}",
   "text_representation": {
    "extension": ".py",
    "format_name": "light",
    "format_version": "1.4",
    "jupytext_version": "1.2.3"
   }
  },
  "kernelspec": {
   "display_name": "Python 3",
   "language": "python",
   "name": "python3"
  },
  "language_info": {
   "codemirror_mode": {
    "name": "ipython",
    "version": 3
   },
   "file_extension": ".py",
   "mimetype": "text/x-python",
   "name": "python",
   "nbconvert_exporter": "python",
   "pygments_lexer": "ipython3",
   "version": "3.7.3"
  }
 },
 "nbformat": 4,
 "nbformat_minor": 4
}
